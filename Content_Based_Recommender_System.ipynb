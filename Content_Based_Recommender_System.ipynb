{
  "nbformat": 4,
  "nbformat_minor": 0,
  "metadata": {
    "colab": {
      "provenance": []
    },
    "kernelspec": {
      "name": "python3",
      "display_name": "Python 3"
    },
    "language_info": {
      "name": "python"
    }
  },
  "cells": [
    {
      "cell_type": "markdown",
      "source": [
        "We want to base on our past movie data to recommend similar movies based on similar plot, genre, director, etc. For example if we search for Titanic movie, similar movies should be recommended to us, which can be done based on the plots, directors, cast, etc."
      ],
      "metadata": {
        "id": "ujrWRkOoPkCi"
      }
    },
    {
      "cell_type": "code",
      "execution_count": null,
      "metadata": {
        "colab": {
          "base_uri": "https://localhost:8080/",
          "height": 825
        },
        "id": "0KanpOvXqlr9",
        "outputId": "ceb95c44-8ba9-49ba-bf6f-34284c367276"
      },
      "outputs": [
        {
          "output_type": "execute_result",
          "data": {
            "text/plain": [
              "   Unnamed: 0                     Title  Year     Rated     Released  Runtime  \\\n",
              "0           1  The Shawshank Redemption  1994         R  14 Oct 1994  142 min   \n",
              "1           2             The Godfather  1972         R  24 Mar 1972  175 min   \n",
              "2           3    The Godfather: Part II  1974         R  20 Dec 1974  202 min   \n",
              "3           4           The Dark Knight  2008     PG-13  18 Jul 2008  152 min   \n",
              "4           5              12 Angry Men  1957  APPROVED  01 Apr 1957   96 min   \n",
              "\n",
              "                  Genre              Director  \\\n",
              "0          Crime, Drama        Frank Darabont   \n",
              "1          Crime, Drama  Francis Ford Coppola   \n",
              "2          Crime, Drama  Francis Ford Coppola   \n",
              "3  Action, Crime, Drama     Christopher Nolan   \n",
              "4          Crime, Drama          Sidney Lumet   \n",
              "\n",
              "                                              Writer  \\\n",
              "0  Stephen King (short story \"Rita Hayworth and S...   \n",
              "1  Mario Puzo (screenplay), Francis Ford Coppola ...   \n",
              "2  Francis Ford Coppola (screenplay), Mario Puzo ...   \n",
              "3  Jonathan Nolan (screenplay), Christopher Nolan...   \n",
              "4  Reginald Rose (story), Reginald Rose (screenplay)   \n",
              "\n",
              "                                              Actors  \\\n",
              "0  Tim Robbins, Morgan Freeman, Bob Gunton, Willi...   \n",
              "1  Marlon Brando, Al Pacino, James Caan, Richard ...   \n",
              "2  Al Pacino, Robert Duvall, Diane Keaton, Robert...   \n",
              "3  Christian Bale, Heath Ledger, Aaron Eckhart, M...   \n",
              "4  Martin Balsam, John Fiedler, Lee J. Cobb, E.G....   \n",
              "\n",
              "                                                Plot  \\\n",
              "0  Two imprisoned men bond over a number of years...   \n",
              "1  The aging patriarch of an organized crime dyna...   \n",
              "2  The early life and career of Vito Corleone in ...   \n",
              "3  When the menace known as the Joker emerges fro...   \n",
              "4  A jury holdout attempts to prevent a miscarria...   \n",
              "\n",
              "                                     Language  Country  \\\n",
              "0                                     English      USA   \n",
              "1                     English, Italian, Latin      USA   \n",
              "2  English, Italian, Spanish, Latin, Sicilian      USA   \n",
              "3                           English, Mandarin  USA, UK   \n",
              "4                                     English      USA   \n",
              "\n",
              "                                              Awards  \\\n",
              "0  Nominated for 7 Oscars. Another 19 wins & 30 n...   \n",
              "1    Won 3 Oscars. Another 23 wins & 27 nominations.   \n",
              "2    Won 6 Oscars. Another 10 wins & 20 nominations.   \n",
              "3  Won 2 Oscars. Another 151 wins & 153 nominations.   \n",
              "4  Nominated for 3 Oscars. Another 16 wins & 8 no...   \n",
              "\n",
              "                                              Poster           Ratings.Source  \\\n",
              "0  https://images-na.ssl-images-amazon.com/images...  Internet Movie Database   \n",
              "1  https://images-na.ssl-images-amazon.com/images...  Internet Movie Database   \n",
              "2  https://images-na.ssl-images-amazon.com/images...  Internet Movie Database   \n",
              "3  https://images-na.ssl-images-amazon.com/images...  Internet Movie Database   \n",
              "4  https://images-na.ssl-images-amazon.com/images...  Internet Movie Database   \n",
              "\n",
              "  Ratings.Value  Metascore  imdbRating  imdbVotes     imdbID   Type  \\\n",
              "0        9.3/10       80.0         9.3  1,825,626  tt0111161  movie   \n",
              "1        9.2/10      100.0         9.2  1,243,444  tt0068646  movie   \n",
              "2        9.0/10       85.0         9.0    856,870  tt0071562  movie   \n",
              "3        9.0/10       82.0         9.0  1,802,351  tt0468569  movie   \n",
              "4        8.9/10       96.0         8.9    494,215  tt0050083  movie   \n",
              "\n",
              "   tomatoMeter  tomatoImage  tomatoRating  tomatoReviews  tomatoFresh  \\\n",
              "0          NaN          NaN           NaN            NaN          NaN   \n",
              "1          NaN          NaN           NaN            NaN          NaN   \n",
              "2          NaN          NaN           NaN            NaN          NaN   \n",
              "3          NaN          NaN           NaN            NaN          NaN   \n",
              "4          NaN          NaN           NaN            NaN          NaN   \n",
              "\n",
              "   tomatoRotten  tomatoConsensus  tomatoUserMeter  tomatoUserRating  \\\n",
              "0           NaN              NaN              NaN               NaN   \n",
              "1           NaN              NaN              NaN               NaN   \n",
              "2           NaN              NaN              NaN               NaN   \n",
              "3           NaN              NaN              NaN               NaN   \n",
              "4           NaN              NaN              NaN               NaN   \n",
              "\n",
              "   tomatoUserReviews                                          tomatoURL  \\\n",
              "0                NaN  http://www.rottentomatoes.com/m/shawshank_rede...   \n",
              "1                NaN         http://www.rottentomatoes.com/m/godfather/   \n",
              "2                NaN  http://www.rottentomatoes.com/m/godfather_part...   \n",
              "3                NaN   http://www.rottentomatoes.com/m/the_dark_knight/   \n",
              "4                NaN  http://www.rottentomatoes.com/m/1000013-12_ang...   \n",
              "\n",
              "           DVD     BoxOffice                       Production  \\\n",
              "0  27 Jan 1998           NaN                Columbia Pictures   \n",
              "1  09 Oct 2001           NaN               Paramount Pictures   \n",
              "2  24 May 2005           NaN               Paramount Pictures   \n",
              "3  09 Dec 2008  $533,316,061  Warner Bros. Pictures/Legendary   \n",
              "4  06 Mar 2001           NaN             Criterion Collection   \n",
              "\n",
              "                                             Website  Response  \n",
              "0                                                NaN      True  \n",
              "1                        http://www.thegodfather.com      True  \n",
              "2                       http://www.thegodfather.com/      True  \n",
              "3               http://thedarkknight.warnerbros.com/      True  \n",
              "4  http://www.criterion.com/films/27871-12-angry-men      True  "
            ],
            "text/html": [
              "\n",
              "  <div id=\"df-97b28823-d0a0-47a5-ac7b-0e08887f6463\">\n",
              "    <div class=\"colab-df-container\">\n",
              "      <div>\n",
              "<style scoped>\n",
              "    .dataframe tbody tr th:only-of-type {\n",
              "        vertical-align: middle;\n",
              "    }\n",
              "\n",
              "    .dataframe tbody tr th {\n",
              "        vertical-align: top;\n",
              "    }\n",
              "\n",
              "    .dataframe thead th {\n",
              "        text-align: right;\n",
              "    }\n",
              "</style>\n",
              "<table border=\"1\" class=\"dataframe\">\n",
              "  <thead>\n",
              "    <tr style=\"text-align: right;\">\n",
              "      <th></th>\n",
              "      <th>Unnamed: 0</th>\n",
              "      <th>Title</th>\n",
              "      <th>Year</th>\n",
              "      <th>Rated</th>\n",
              "      <th>Released</th>\n",
              "      <th>Runtime</th>\n",
              "      <th>Genre</th>\n",
              "      <th>Director</th>\n",
              "      <th>Writer</th>\n",
              "      <th>Actors</th>\n",
              "      <th>Plot</th>\n",
              "      <th>Language</th>\n",
              "      <th>Country</th>\n",
              "      <th>Awards</th>\n",
              "      <th>Poster</th>\n",
              "      <th>Ratings.Source</th>\n",
              "      <th>Ratings.Value</th>\n",
              "      <th>Metascore</th>\n",
              "      <th>imdbRating</th>\n",
              "      <th>imdbVotes</th>\n",
              "      <th>imdbID</th>\n",
              "      <th>Type</th>\n",
              "      <th>tomatoMeter</th>\n",
              "      <th>tomatoImage</th>\n",
              "      <th>tomatoRating</th>\n",
              "      <th>tomatoReviews</th>\n",
              "      <th>tomatoFresh</th>\n",
              "      <th>tomatoRotten</th>\n",
              "      <th>tomatoConsensus</th>\n",
              "      <th>tomatoUserMeter</th>\n",
              "      <th>tomatoUserRating</th>\n",
              "      <th>tomatoUserReviews</th>\n",
              "      <th>tomatoURL</th>\n",
              "      <th>DVD</th>\n",
              "      <th>BoxOffice</th>\n",
              "      <th>Production</th>\n",
              "      <th>Website</th>\n",
              "      <th>Response</th>\n",
              "    </tr>\n",
              "  </thead>\n",
              "  <tbody>\n",
              "    <tr>\n",
              "      <th>0</th>\n",
              "      <td>1</td>\n",
              "      <td>The Shawshank Redemption</td>\n",
              "      <td>1994</td>\n",
              "      <td>R</td>\n",
              "      <td>14 Oct 1994</td>\n",
              "      <td>142 min</td>\n",
              "      <td>Crime, Drama</td>\n",
              "      <td>Frank Darabont</td>\n",
              "      <td>Stephen King (short story \"Rita Hayworth and S...</td>\n",
              "      <td>Tim Robbins, Morgan Freeman, Bob Gunton, Willi...</td>\n",
              "      <td>Two imprisoned men bond over a number of years...</td>\n",
              "      <td>English</td>\n",
              "      <td>USA</td>\n",
              "      <td>Nominated for 7 Oscars. Another 19 wins &amp; 30 n...</td>\n",
              "      <td>https://images-na.ssl-images-amazon.com/images...</td>\n",
              "      <td>Internet Movie Database</td>\n",
              "      <td>9.3/10</td>\n",
              "      <td>80.0</td>\n",
              "      <td>9.3</td>\n",
              "      <td>1,825,626</td>\n",
              "      <td>tt0111161</td>\n",
              "      <td>movie</td>\n",
              "      <td>NaN</td>\n",
              "      <td>NaN</td>\n",
              "      <td>NaN</td>\n",
              "      <td>NaN</td>\n",
              "      <td>NaN</td>\n",
              "      <td>NaN</td>\n",
              "      <td>NaN</td>\n",
              "      <td>NaN</td>\n",
              "      <td>NaN</td>\n",
              "      <td>NaN</td>\n",
              "      <td>http://www.rottentomatoes.com/m/shawshank_rede...</td>\n",
              "      <td>27 Jan 1998</td>\n",
              "      <td>NaN</td>\n",
              "      <td>Columbia Pictures</td>\n",
              "      <td>NaN</td>\n",
              "      <td>True</td>\n",
              "    </tr>\n",
              "    <tr>\n",
              "      <th>1</th>\n",
              "      <td>2</td>\n",
              "      <td>The Godfather</td>\n",
              "      <td>1972</td>\n",
              "      <td>R</td>\n",
              "      <td>24 Mar 1972</td>\n",
              "      <td>175 min</td>\n",
              "      <td>Crime, Drama</td>\n",
              "      <td>Francis Ford Coppola</td>\n",
              "      <td>Mario Puzo (screenplay), Francis Ford Coppola ...</td>\n",
              "      <td>Marlon Brando, Al Pacino, James Caan, Richard ...</td>\n",
              "      <td>The aging patriarch of an organized crime dyna...</td>\n",
              "      <td>English, Italian, Latin</td>\n",
              "      <td>USA</td>\n",
              "      <td>Won 3 Oscars. Another 23 wins &amp; 27 nominations.</td>\n",
              "      <td>https://images-na.ssl-images-amazon.com/images...</td>\n",
              "      <td>Internet Movie Database</td>\n",
              "      <td>9.2/10</td>\n",
              "      <td>100.0</td>\n",
              "      <td>9.2</td>\n",
              "      <td>1,243,444</td>\n",
              "      <td>tt0068646</td>\n",
              "      <td>movie</td>\n",
              "      <td>NaN</td>\n",
              "      <td>NaN</td>\n",
              "      <td>NaN</td>\n",
              "      <td>NaN</td>\n",
              "      <td>NaN</td>\n",
              "      <td>NaN</td>\n",
              "      <td>NaN</td>\n",
              "      <td>NaN</td>\n",
              "      <td>NaN</td>\n",
              "      <td>NaN</td>\n",
              "      <td>http://www.rottentomatoes.com/m/godfather/</td>\n",
              "      <td>09 Oct 2001</td>\n",
              "      <td>NaN</td>\n",
              "      <td>Paramount Pictures</td>\n",
              "      <td>http://www.thegodfather.com</td>\n",
              "      <td>True</td>\n",
              "    </tr>\n",
              "    <tr>\n",
              "      <th>2</th>\n",
              "      <td>3</td>\n",
              "      <td>The Godfather: Part II</td>\n",
              "      <td>1974</td>\n",
              "      <td>R</td>\n",
              "      <td>20 Dec 1974</td>\n",
              "      <td>202 min</td>\n",
              "      <td>Crime, Drama</td>\n",
              "      <td>Francis Ford Coppola</td>\n",
              "      <td>Francis Ford Coppola (screenplay), Mario Puzo ...</td>\n",
              "      <td>Al Pacino, Robert Duvall, Diane Keaton, Robert...</td>\n",
              "      <td>The early life and career of Vito Corleone in ...</td>\n",
              "      <td>English, Italian, Spanish, Latin, Sicilian</td>\n",
              "      <td>USA</td>\n",
              "      <td>Won 6 Oscars. Another 10 wins &amp; 20 nominations.</td>\n",
              "      <td>https://images-na.ssl-images-amazon.com/images...</td>\n",
              "      <td>Internet Movie Database</td>\n",
              "      <td>9.0/10</td>\n",
              "      <td>85.0</td>\n",
              "      <td>9.0</td>\n",
              "      <td>856,870</td>\n",
              "      <td>tt0071562</td>\n",
              "      <td>movie</td>\n",
              "      <td>NaN</td>\n",
              "      <td>NaN</td>\n",
              "      <td>NaN</td>\n",
              "      <td>NaN</td>\n",
              "      <td>NaN</td>\n",
              "      <td>NaN</td>\n",
              "      <td>NaN</td>\n",
              "      <td>NaN</td>\n",
              "      <td>NaN</td>\n",
              "      <td>NaN</td>\n",
              "      <td>http://www.rottentomatoes.com/m/godfather_part...</td>\n",
              "      <td>24 May 2005</td>\n",
              "      <td>NaN</td>\n",
              "      <td>Paramount Pictures</td>\n",
              "      <td>http://www.thegodfather.com/</td>\n",
              "      <td>True</td>\n",
              "    </tr>\n",
              "    <tr>\n",
              "      <th>3</th>\n",
              "      <td>4</td>\n",
              "      <td>The Dark Knight</td>\n",
              "      <td>2008</td>\n",
              "      <td>PG-13</td>\n",
              "      <td>18 Jul 2008</td>\n",
              "      <td>152 min</td>\n",
              "      <td>Action, Crime, Drama</td>\n",
              "      <td>Christopher Nolan</td>\n",
              "      <td>Jonathan Nolan (screenplay), Christopher Nolan...</td>\n",
              "      <td>Christian Bale, Heath Ledger, Aaron Eckhart, M...</td>\n",
              "      <td>When the menace known as the Joker emerges fro...</td>\n",
              "      <td>English, Mandarin</td>\n",
              "      <td>USA, UK</td>\n",
              "      <td>Won 2 Oscars. Another 151 wins &amp; 153 nominations.</td>\n",
              "      <td>https://images-na.ssl-images-amazon.com/images...</td>\n",
              "      <td>Internet Movie Database</td>\n",
              "      <td>9.0/10</td>\n",
              "      <td>82.0</td>\n",
              "      <td>9.0</td>\n",
              "      <td>1,802,351</td>\n",
              "      <td>tt0468569</td>\n",
              "      <td>movie</td>\n",
              "      <td>NaN</td>\n",
              "      <td>NaN</td>\n",
              "      <td>NaN</td>\n",
              "      <td>NaN</td>\n",
              "      <td>NaN</td>\n",
              "      <td>NaN</td>\n",
              "      <td>NaN</td>\n",
              "      <td>NaN</td>\n",
              "      <td>NaN</td>\n",
              "      <td>NaN</td>\n",
              "      <td>http://www.rottentomatoes.com/m/the_dark_knight/</td>\n",
              "      <td>09 Dec 2008</td>\n",
              "      <td>$533,316,061</td>\n",
              "      <td>Warner Bros. Pictures/Legendary</td>\n",
              "      <td>http://thedarkknight.warnerbros.com/</td>\n",
              "      <td>True</td>\n",
              "    </tr>\n",
              "    <tr>\n",
              "      <th>4</th>\n",
              "      <td>5</td>\n",
              "      <td>12 Angry Men</td>\n",
              "      <td>1957</td>\n",
              "      <td>APPROVED</td>\n",
              "      <td>01 Apr 1957</td>\n",
              "      <td>96 min</td>\n",
              "      <td>Crime, Drama</td>\n",
              "      <td>Sidney Lumet</td>\n",
              "      <td>Reginald Rose (story), Reginald Rose (screenplay)</td>\n",
              "      <td>Martin Balsam, John Fiedler, Lee J. Cobb, E.G....</td>\n",
              "      <td>A jury holdout attempts to prevent a miscarria...</td>\n",
              "      <td>English</td>\n",
              "      <td>USA</td>\n",
              "      <td>Nominated for 3 Oscars. Another 16 wins &amp; 8 no...</td>\n",
              "      <td>https://images-na.ssl-images-amazon.com/images...</td>\n",
              "      <td>Internet Movie Database</td>\n",
              "      <td>8.9/10</td>\n",
              "      <td>96.0</td>\n",
              "      <td>8.9</td>\n",
              "      <td>494,215</td>\n",
              "      <td>tt0050083</td>\n",
              "      <td>movie</td>\n",
              "      <td>NaN</td>\n",
              "      <td>NaN</td>\n",
              "      <td>NaN</td>\n",
              "      <td>NaN</td>\n",
              "      <td>NaN</td>\n",
              "      <td>NaN</td>\n",
              "      <td>NaN</td>\n",
              "      <td>NaN</td>\n",
              "      <td>NaN</td>\n",
              "      <td>NaN</td>\n",
              "      <td>http://www.rottentomatoes.com/m/1000013-12_ang...</td>\n",
              "      <td>06 Mar 2001</td>\n",
              "      <td>NaN</td>\n",
              "      <td>Criterion Collection</td>\n",
              "      <td>http://www.criterion.com/films/27871-12-angry-men</td>\n",
              "      <td>True</td>\n",
              "    </tr>\n",
              "  </tbody>\n",
              "</table>\n",
              "</div>\n",
              "      <button class=\"colab-df-convert\" onclick=\"convertToInteractive('df-97b28823-d0a0-47a5-ac7b-0e08887f6463')\"\n",
              "              title=\"Convert this dataframe to an interactive table.\"\n",
              "              style=\"display:none;\">\n",
              "        \n",
              "  <svg xmlns=\"http://www.w3.org/2000/svg\" height=\"24px\"viewBox=\"0 0 24 24\"\n",
              "       width=\"24px\">\n",
              "    <path d=\"M0 0h24v24H0V0z\" fill=\"none\"/>\n",
              "    <path d=\"M18.56 5.44l.94 2.06.94-2.06 2.06-.94-2.06-.94-.94-2.06-.94 2.06-2.06.94zm-11 1L8.5 8.5l.94-2.06 2.06-.94-2.06-.94L8.5 2.5l-.94 2.06-2.06.94zm10 10l.94 2.06.94-2.06 2.06-.94-2.06-.94-.94-2.06-.94 2.06-2.06.94z\"/><path d=\"M17.41 7.96l-1.37-1.37c-.4-.4-.92-.59-1.43-.59-.52 0-1.04.2-1.43.59L10.3 9.45l-7.72 7.72c-.78.78-.78 2.05 0 2.83L4 21.41c.39.39.9.59 1.41.59.51 0 1.02-.2 1.41-.59l7.78-7.78 2.81-2.81c.8-.78.8-2.07 0-2.86zM5.41 20L4 18.59l7.72-7.72 1.47 1.35L5.41 20z\"/>\n",
              "  </svg>\n",
              "      </button>\n",
              "      \n",
              "  <style>\n",
              "    .colab-df-container {\n",
              "      display:flex;\n",
              "      flex-wrap:wrap;\n",
              "      gap: 12px;\n",
              "    }\n",
              "\n",
              "    .colab-df-convert {\n",
              "      background-color: #E8F0FE;\n",
              "      border: none;\n",
              "      border-radius: 50%;\n",
              "      cursor: pointer;\n",
              "      display: none;\n",
              "      fill: #1967D2;\n",
              "      height: 32px;\n",
              "      padding: 0 0 0 0;\n",
              "      width: 32px;\n",
              "    }\n",
              "\n",
              "    .colab-df-convert:hover {\n",
              "      background-color: #E2EBFA;\n",
              "      box-shadow: 0px 1px 2px rgba(60, 64, 67, 0.3), 0px 1px 3px 1px rgba(60, 64, 67, 0.15);\n",
              "      fill: #174EA6;\n",
              "    }\n",
              "\n",
              "    [theme=dark] .colab-df-convert {\n",
              "      background-color: #3B4455;\n",
              "      fill: #D2E3FC;\n",
              "    }\n",
              "\n",
              "    [theme=dark] .colab-df-convert:hover {\n",
              "      background-color: #434B5C;\n",
              "      box-shadow: 0px 1px 3px 1px rgba(0, 0, 0, 0.15);\n",
              "      filter: drop-shadow(0px 1px 2px rgba(0, 0, 0, 0.3));\n",
              "      fill: #FFFFFF;\n",
              "    }\n",
              "  </style>\n",
              "\n",
              "      <script>\n",
              "        const buttonEl =\n",
              "          document.querySelector('#df-97b28823-d0a0-47a5-ac7b-0e08887f6463 button.colab-df-convert');\n",
              "        buttonEl.style.display =\n",
              "          google.colab.kernel.accessAllowed ? 'block' : 'none';\n",
              "\n",
              "        async function convertToInteractive(key) {\n",
              "          const element = document.querySelector('#df-97b28823-d0a0-47a5-ac7b-0e08887f6463');\n",
              "          const dataTable =\n",
              "            await google.colab.kernel.invokeFunction('convertToInteractive',\n",
              "                                                     [key], {});\n",
              "          if (!dataTable) return;\n",
              "\n",
              "          const docLinkHtml = 'Like what you see? Visit the ' +\n",
              "            '<a target=\"_blank\" href=https://colab.research.google.com/notebooks/data_table.ipynb>data table notebook</a>'\n",
              "            + ' to learn more about interactive tables.';\n",
              "          element.innerHTML = '';\n",
              "          dataTable['output_type'] = 'display_data';\n",
              "          await google.colab.output.renderOutput(dataTable, element);\n",
              "          const docLink = document.createElement('div');\n",
              "          docLink.innerHTML = docLinkHtml;\n",
              "          element.appendChild(docLink);\n",
              "        }\n",
              "      </script>\n",
              "    </div>\n",
              "  </div>\n",
              "  "
            ]
          },
          "metadata": {},
          "execution_count": 1
        }
      ],
      "source": [
        "import pandas as pd\n",
        "import numpy as np\n",
        "from sklearn.metrics.pairwise import cosine_similarity\n",
        "from sklearn.feature_extraction.text import CountVectorizer ## Same function as Document Term Frequency\n",
        "pd.set_option('display.max_columns', 100)\n",
        "df=pd.read_csv(\"https://query.data.world/s/uikepcpffyo2nhig52xxeevdialfl7\")\n",
        "df.head()"
      ]
    },
    {
      "cell_type": "code",
      "source": [
        "df.shape"
      ],
      "metadata": {
        "colab": {
          "base_uri": "https://localhost:8080/"
        },
        "id": "sBq9yvvgRZGQ",
        "outputId": "aa1f5409-eb78-4deb-b8ff-c49f9e53ff20"
      },
      "execution_count": null,
      "outputs": [
        {
          "output_type": "execute_result",
          "data": {
            "text/plain": [
              "(250, 38)"
            ]
          },
          "metadata": {},
          "execution_count": 2
        }
      ]
    },
    {
      "cell_type": "markdown",
      "source": [
        "## We will base on \"Title\",\"Genre\",\"Director\",\"Actors\",\"Plot\" to make recommendations"
      ],
      "metadata": {
        "id": "4TTt1ItBS0U0"
      }
    },
    {
      "cell_type": "code",
      "source": [
        "df=df[[\"Title\",\"Genre\",\"Director\",\"Actors\",\"Plot\"]]\n",
        "df.head()"
      ],
      "metadata": {
        "colab": {
          "base_uri": "https://localhost:8080/",
          "height": 206
        },
        "id": "kYRU9gVMSxeh",
        "outputId": "a74be5de-db79-4f25-b06b-33cd35cefd6e"
      },
      "execution_count": null,
      "outputs": [
        {
          "output_type": "execute_result",
          "data": {
            "text/plain": [
              "                      Title                 Genre              Director  \\\n",
              "0  The Shawshank Redemption          Crime, Drama        Frank Darabont   \n",
              "1             The Godfather          Crime, Drama  Francis Ford Coppola   \n",
              "2    The Godfather: Part II          Crime, Drama  Francis Ford Coppola   \n",
              "3           The Dark Knight  Action, Crime, Drama     Christopher Nolan   \n",
              "4              12 Angry Men          Crime, Drama          Sidney Lumet   \n",
              "\n",
              "                                              Actors  \\\n",
              "0  Tim Robbins, Morgan Freeman, Bob Gunton, Willi...   \n",
              "1  Marlon Brando, Al Pacino, James Caan, Richard ...   \n",
              "2  Al Pacino, Robert Duvall, Diane Keaton, Robert...   \n",
              "3  Christian Bale, Heath Ledger, Aaron Eckhart, M...   \n",
              "4  Martin Balsam, John Fiedler, Lee J. Cobb, E.G....   \n",
              "\n",
              "                                                Plot  \n",
              "0  Two imprisoned men bond over a number of years...  \n",
              "1  The aging patriarch of an organized crime dyna...  \n",
              "2  The early life and career of Vito Corleone in ...  \n",
              "3  When the menace known as the Joker emerges fro...  \n",
              "4  A jury holdout attempts to prevent a miscarria...  "
            ],
            "text/html": [
              "\n",
              "  <div id=\"df-e92f64c1-1740-424f-bcbb-2920e270987e\">\n",
              "    <div class=\"colab-df-container\">\n",
              "      <div>\n",
              "<style scoped>\n",
              "    .dataframe tbody tr th:only-of-type {\n",
              "        vertical-align: middle;\n",
              "    }\n",
              "\n",
              "    .dataframe tbody tr th {\n",
              "        vertical-align: top;\n",
              "    }\n",
              "\n",
              "    .dataframe thead th {\n",
              "        text-align: right;\n",
              "    }\n",
              "</style>\n",
              "<table border=\"1\" class=\"dataframe\">\n",
              "  <thead>\n",
              "    <tr style=\"text-align: right;\">\n",
              "      <th></th>\n",
              "      <th>Title</th>\n",
              "      <th>Genre</th>\n",
              "      <th>Director</th>\n",
              "      <th>Actors</th>\n",
              "      <th>Plot</th>\n",
              "    </tr>\n",
              "  </thead>\n",
              "  <tbody>\n",
              "    <tr>\n",
              "      <th>0</th>\n",
              "      <td>The Shawshank Redemption</td>\n",
              "      <td>Crime, Drama</td>\n",
              "      <td>Frank Darabont</td>\n",
              "      <td>Tim Robbins, Morgan Freeman, Bob Gunton, Willi...</td>\n",
              "      <td>Two imprisoned men bond over a number of years...</td>\n",
              "    </tr>\n",
              "    <tr>\n",
              "      <th>1</th>\n",
              "      <td>The Godfather</td>\n",
              "      <td>Crime, Drama</td>\n",
              "      <td>Francis Ford Coppola</td>\n",
              "      <td>Marlon Brando, Al Pacino, James Caan, Richard ...</td>\n",
              "      <td>The aging patriarch of an organized crime dyna...</td>\n",
              "    </tr>\n",
              "    <tr>\n",
              "      <th>2</th>\n",
              "      <td>The Godfather: Part II</td>\n",
              "      <td>Crime, Drama</td>\n",
              "      <td>Francis Ford Coppola</td>\n",
              "      <td>Al Pacino, Robert Duvall, Diane Keaton, Robert...</td>\n",
              "      <td>The early life and career of Vito Corleone in ...</td>\n",
              "    </tr>\n",
              "    <tr>\n",
              "      <th>3</th>\n",
              "      <td>The Dark Knight</td>\n",
              "      <td>Action, Crime, Drama</td>\n",
              "      <td>Christopher Nolan</td>\n",
              "      <td>Christian Bale, Heath Ledger, Aaron Eckhart, M...</td>\n",
              "      <td>When the menace known as the Joker emerges fro...</td>\n",
              "    </tr>\n",
              "    <tr>\n",
              "      <th>4</th>\n",
              "      <td>12 Angry Men</td>\n",
              "      <td>Crime, Drama</td>\n",
              "      <td>Sidney Lumet</td>\n",
              "      <td>Martin Balsam, John Fiedler, Lee J. Cobb, E.G....</td>\n",
              "      <td>A jury holdout attempts to prevent a miscarria...</td>\n",
              "    </tr>\n",
              "  </tbody>\n",
              "</table>\n",
              "</div>\n",
              "      <button class=\"colab-df-convert\" onclick=\"convertToInteractive('df-e92f64c1-1740-424f-bcbb-2920e270987e')\"\n",
              "              title=\"Convert this dataframe to an interactive table.\"\n",
              "              style=\"display:none;\">\n",
              "        \n",
              "  <svg xmlns=\"http://www.w3.org/2000/svg\" height=\"24px\"viewBox=\"0 0 24 24\"\n",
              "       width=\"24px\">\n",
              "    <path d=\"M0 0h24v24H0V0z\" fill=\"none\"/>\n",
              "    <path d=\"M18.56 5.44l.94 2.06.94-2.06 2.06-.94-2.06-.94-.94-2.06-.94 2.06-2.06.94zm-11 1L8.5 8.5l.94-2.06 2.06-.94-2.06-.94L8.5 2.5l-.94 2.06-2.06.94zm10 10l.94 2.06.94-2.06 2.06-.94-2.06-.94-.94-2.06-.94 2.06-2.06.94z\"/><path d=\"M17.41 7.96l-1.37-1.37c-.4-.4-.92-.59-1.43-.59-.52 0-1.04.2-1.43.59L10.3 9.45l-7.72 7.72c-.78.78-.78 2.05 0 2.83L4 21.41c.39.39.9.59 1.41.59.51 0 1.02-.2 1.41-.59l7.78-7.78 2.81-2.81c.8-.78.8-2.07 0-2.86zM5.41 20L4 18.59l7.72-7.72 1.47 1.35L5.41 20z\"/>\n",
              "  </svg>\n",
              "      </button>\n",
              "      \n",
              "  <style>\n",
              "    .colab-df-container {\n",
              "      display:flex;\n",
              "      flex-wrap:wrap;\n",
              "      gap: 12px;\n",
              "    }\n",
              "\n",
              "    .colab-df-convert {\n",
              "      background-color: #E8F0FE;\n",
              "      border: none;\n",
              "      border-radius: 50%;\n",
              "      cursor: pointer;\n",
              "      display: none;\n",
              "      fill: #1967D2;\n",
              "      height: 32px;\n",
              "      padding: 0 0 0 0;\n",
              "      width: 32px;\n",
              "    }\n",
              "\n",
              "    .colab-df-convert:hover {\n",
              "      background-color: #E2EBFA;\n",
              "      box-shadow: 0px 1px 2px rgba(60, 64, 67, 0.3), 0px 1px 3px 1px rgba(60, 64, 67, 0.15);\n",
              "      fill: #174EA6;\n",
              "    }\n",
              "\n",
              "    [theme=dark] .colab-df-convert {\n",
              "      background-color: #3B4455;\n",
              "      fill: #D2E3FC;\n",
              "    }\n",
              "\n",
              "    [theme=dark] .colab-df-convert:hover {\n",
              "      background-color: #434B5C;\n",
              "      box-shadow: 0px 1px 3px 1px rgba(0, 0, 0, 0.15);\n",
              "      filter: drop-shadow(0px 1px 2px rgba(0, 0, 0, 0.3));\n",
              "      fill: #FFFFFF;\n",
              "    }\n",
              "  </style>\n",
              "\n",
              "      <script>\n",
              "        const buttonEl =\n",
              "          document.querySelector('#df-e92f64c1-1740-424f-bcbb-2920e270987e button.colab-df-convert');\n",
              "        buttonEl.style.display =\n",
              "          google.colab.kernel.accessAllowed ? 'block' : 'none';\n",
              "\n",
              "        async function convertToInteractive(key) {\n",
              "          const element = document.querySelector('#df-e92f64c1-1740-424f-bcbb-2920e270987e');\n",
              "          const dataTable =\n",
              "            await google.colab.kernel.invokeFunction('convertToInteractive',\n",
              "                                                     [key], {});\n",
              "          if (!dataTable) return;\n",
              "\n",
              "          const docLinkHtml = 'Like what you see? Visit the ' +\n",
              "            '<a target=\"_blank\" href=https://colab.research.google.com/notebooks/data_table.ipynb>data table notebook</a>'\n",
              "            + ' to learn more about interactive tables.';\n",
              "          element.innerHTML = '';\n",
              "          dataTable['output_type'] = 'display_data';\n",
              "          await google.colab.output.renderOutput(dataTable, element);\n",
              "          const docLink = document.createElement('div');\n",
              "          docLink.innerHTML = docLinkHtml;\n",
              "          element.appendChild(docLink);\n",
              "        }\n",
              "      </script>\n",
              "    </div>\n",
              "  </div>\n",
              "  "
            ]
          },
          "metadata": {},
          "execution_count": 3
        }
      ]
    },
    {
      "cell_type": "code",
      "source": [
        "## Discarding commas between actors names\n",
        "df['Actors']=df['Actors'].map(lambda x: x.lower().split(\",\"))"
      ],
      "metadata": {
        "id": "YeC6eLuqTNLL"
      },
      "execution_count": null,
      "outputs": []
    },
    {
      "cell_type": "code",
      "source": [
        "df['Actors']"
      ],
      "metadata": {
        "colab": {
          "base_uri": "https://localhost:8080/"
        },
        "id": "RLYC1ZEgWBV4",
        "outputId": "6f5e2461-c0f7-44bb-bd06-4e2f886d4296"
      },
      "execution_count": null,
      "outputs": [
        {
          "output_type": "execute_result",
          "data": {
            "text/plain": [
              "0      [tim robbins,  morgan freeman,  bob gunton,  w...\n",
              "1      [marlon brando,  al pacino,  james caan,  rich...\n",
              "2      [al pacino,  robert duvall,  diane keaton,  ro...\n",
              "3      [christian bale,  heath ledger,  aaron eckhart...\n",
              "4      [martin balsam,  john fiedler,  lee j. cobb,  ...\n",
              "                             ...                        \n",
              "245    [ray milland,  jane wyman,  phillip terry,  ho...\n",
              "246    [brie larson,  john gallagher jr.,  stephanie ...\n",
              "247    [cary grant,  rosalind russell,  ralph bellamy...\n",
              "248    [sissy spacek,  jane galloway heitz,  joseph a...\n",
              "249    [dev patel,  saurabh shukla,  anil kapoor,  ra...\n",
              "Name: Actors, Length: 250, dtype: object"
            ]
          },
          "metadata": {},
          "execution_count": 5
        }
      ]
    },
    {
      "cell_type": "code",
      "source": [
        "## Putting genres in a list of words\n",
        "df['Genre']=df[\"Genre\"].map(lambda x: x.lower().split(\",\"))"
      ],
      "metadata": {
        "id": "SWC-vPlYWDqd"
      },
      "execution_count": null,
      "outputs": []
    },
    {
      "cell_type": "code",
      "source": [
        "df['Genre']"
      ],
      "metadata": {
        "colab": {
          "base_uri": "https://localhost:8080/"
        },
        "id": "iRInG333ZZ7E",
        "outputId": "a0fd96b2-8afe-4b07-e696-bd2e7b0d538d"
      },
      "execution_count": null,
      "outputs": [
        {
          "output_type": "execute_result",
          "data": {
            "text/plain": [
              "0                 [crime,  drama]\n",
              "1                 [crime,  drama]\n",
              "2                 [crime,  drama]\n",
              "3        [action,  crime,  drama]\n",
              "4                 [crime,  drama]\n",
              "                  ...            \n",
              "245           [drama,  film-noir]\n",
              "246                       [drama]\n",
              "247    [comedy,  drama,  romance]\n",
              "248           [biography,  drama]\n",
              "249                       [drama]\n",
              "Name: Genre, Length: 250, dtype: object"
            ]
          },
          "metadata": {},
          "execution_count": 7
        }
      ]
    },
    {
      "cell_type": "code",
      "source": [
        "df['Director']=df['Director'].map(lambda x: x.lower().split(\" \"))"
      ],
      "metadata": {
        "id": "rKxMRBVgZb8M"
      },
      "execution_count": null,
      "outputs": []
    },
    {
      "cell_type": "code",
      "source": [
        "df['Director']"
      ],
      "metadata": {
        "colab": {
          "base_uri": "https://localhost:8080/"
        },
        "id": "3mGqjLB8gfGg",
        "outputId": "5ff27dd8-4d0e-498e-b13d-9d4f1d83d660"
      },
      "execution_count": null,
      "outputs": [
        {
          "output_type": "execute_result",
          "data": {
            "text/plain": [
              "0                      [frank, darabont]\n",
              "1               [francis, ford, coppola]\n",
              "2               [francis, ford, coppola]\n",
              "3                   [christopher, nolan]\n",
              "4                        [sidney, lumet]\n",
              "                     ...                \n",
              "245                      [billy, wilder]\n",
              "246            [destin, daniel, cretton]\n",
              "247                      [howard, hawks]\n",
              "248                       [david, lynch]\n",
              "249    [danny, boyle,, loveleen, tandan]\n",
              "Name: Director, Length: 250, dtype: object"
            ]
          },
          "metadata": {},
          "execution_count": 9
        }
      ]
    },
    {
      "cell_type": "markdown",
      "source": [
        "## Convert names to lower cases and avoid duplicates"
      ],
      "metadata": {
        "id": "aRRIHqcUhPWN"
      }
    },
    {
      "cell_type": "code",
      "source": [
        "for index,row in df.iterrows():\n",
        "  row['Actors']=[x.lower().replace(' ','') for x in row['Actors']]\n",
        "  row['Director']=''.join(row['Director']).lower()"
      ],
      "metadata": {
        "id": "4l0A69CQhYfX"
      },
      "execution_count": null,
      "outputs": []
    },
    {
      "cell_type": "code",
      "source": [
        "df['Actors']"
      ],
      "metadata": {
        "colab": {
          "base_uri": "https://localhost:8080/"
        },
        "id": "qyYItw1rlRa1",
        "outputId": "5b655336-7ca9-4e3b-f9be-2b3c7881c318"
      },
      "execution_count": null,
      "outputs": [
        {
          "output_type": "execute_result",
          "data": {
            "text/plain": [
              "0      [timrobbins, morganfreeman, bobgunton, william...\n",
              "1      [marlonbrando, alpacino, jamescaan, richards.c...\n",
              "2      [alpacino, robertduvall, dianekeaton, robertde...\n",
              "3      [christianbale, heathledger, aaroneckhart, mic...\n",
              "4      [martinbalsam, johnfiedler, leej.cobb, e.g.mar...\n",
              "                             ...                        \n",
              "245    [raymilland, janewyman, phillipterry, howardda...\n",
              "246    [brielarson, johngallagherjr., stephaniebeatri...\n",
              "247    [carygrant, rosalindrussell, ralphbellamy, gen...\n",
              "248    [sissyspacek, janegallowayheitz, josepha.carpe...\n",
              "249     [devpatel, saurabhshukla, anilkapoor, rajzutshi]\n",
              "Name: Actors, Length: 250, dtype: object"
            ]
          },
          "metadata": {},
          "execution_count": 11
        }
      ]
    },
    {
      "cell_type": "code",
      "source": [
        "df['Director']"
      ],
      "metadata": {
        "colab": {
          "base_uri": "https://localhost:8080/"
        },
        "id": "Enk65V_Xlcyv",
        "outputId": "d5da5ff8-3f83-4806-ffbb-ce262ce96ff9"
      },
      "execution_count": null,
      "outputs": [
        {
          "output_type": "execute_result",
          "data": {
            "text/plain": [
              "0                  frankdarabont\n",
              "1             francisfordcoppola\n",
              "2             francisfordcoppola\n",
              "3               christophernolan\n",
              "4                    sidneylumet\n",
              "                 ...            \n",
              "245                  billywilder\n",
              "246          destindanielcretton\n",
              "247                  howardhawks\n",
              "248                   davidlynch\n",
              "249    dannyboyle,loveleentandan\n",
              "Name: Director, Length: 250, dtype: object"
            ]
          },
          "metadata": {},
          "execution_count": 12
        }
      ]
    },
    {
      "cell_type": "code",
      "source": [
        "!pip install rake_nltk"
      ],
      "metadata": {
        "colab": {
          "base_uri": "https://localhost:8080/"
        },
        "id": "4TGDFR3Wlewg",
        "outputId": "c824bbd9-072e-4e99-fd18-9e8a992a10e9"
      },
      "execution_count": null,
      "outputs": [
        {
          "output_type": "stream",
          "name": "stdout",
          "text": [
            "Looking in indexes: https://pypi.org/simple, https://us-python.pkg.dev/colab-wheels/public/simple/\n",
            "Requirement already satisfied: rake_nltk in /usr/local/lib/python3.10/dist-packages (1.0.6)\n",
            "Requirement already satisfied: nltk<4.0.0,>=3.6.2 in /usr/local/lib/python3.10/dist-packages (from rake_nltk) (3.8.1)\n",
            "Requirement already satisfied: click in /usr/local/lib/python3.10/dist-packages (from nltk<4.0.0,>=3.6.2->rake_nltk) (8.1.3)\n",
            "Requirement already satisfied: joblib in /usr/local/lib/python3.10/dist-packages (from nltk<4.0.0,>=3.6.2->rake_nltk) (1.2.0)\n",
            "Requirement already satisfied: regex>=2021.8.3 in /usr/local/lib/python3.10/dist-packages (from nltk<4.0.0,>=3.6.2->rake_nltk) (2022.10.31)\n",
            "Requirement already satisfied: tqdm in /usr/local/lib/python3.10/dist-packages (from nltk<4.0.0,>=3.6.2->rake_nltk) (4.65.0)\n"
          ]
        }
      ]
    },
    {
      "cell_type": "code",
      "source": [
        "import rake_nltk\n",
        "from rake_nltk import Rake ## For extracting significant keywords\n",
        "import nltk\n",
        "nltk.download('stopwords')\n",
        "nltk.download('punkt')"
      ],
      "metadata": {
        "colab": {
          "base_uri": "https://localhost:8080/"
        },
        "id": "48vXXJWsm7RT",
        "outputId": "5afee2d9-bea0-4a33-be74-e532e7d8fc53"
      },
      "execution_count": null,
      "outputs": [
        {
          "output_type": "stream",
          "name": "stderr",
          "text": [
            "[nltk_data] Downloading package stopwords to /root/nltk_data...\n",
            "[nltk_data]   Package stopwords is already up-to-date!\n",
            "[nltk_data] Downloading package punkt to /root/nltk_data...\n",
            "[nltk_data]   Package punkt is already up-to-date!\n"
          ]
        },
        {
          "output_type": "execute_result",
          "data": {
            "text/plain": [
              "True"
            ]
          },
          "metadata": {},
          "execution_count": 14
        }
      ]
    },
    {
      "cell_type": "code",
      "source": [
        "## Initiaizing the new columns\n",
        "df['Key_words']=\"\"\n",
        "for index,row in df.iterrows():\n",
        "  plot=row['Plot']\n",
        "\n",
        "## Instantiating rake and discard all punctuation marks\n",
        "  r=Rake()\n",
        "\n",
        "## Getting the dictionary with key words and their score\n",
        "  r.extract_keywords_from_text(plot)\n",
        "\n",
        "  key_words_dict_scores = r.get_word_degrees()\n",
        "\n",
        "# assigning the key words to the new column\n",
        "  row['Key_words'] = list(key_words_dict_scores.keys())\n",
        "\n",
        "df.drop(columns = ['Plot'], inplace = True)"
      ],
      "metadata": {
        "id": "TYf78V53nT7n"
      },
      "execution_count": null,
      "outputs": []
    },
    {
      "cell_type": "code",
      "source": [
        "key_words_dict_scores"
      ],
      "metadata": {
        "colab": {
          "base_uri": "https://localhost:8080/"
        },
        "id": "a6nU7BqRYyGO",
        "outputId": "4f271333-e182-4ff8-dea5-540cecc75160"
      },
      "execution_count": null,
      "outputs": [
        {
          "output_type": "execute_result",
          "data": {
            "text/plain": [
              "defaultdict(<function rake_nltk.rake.Rake._build_word_co_occurance_graph.<locals>.<lambda>()>,\n",
              "            {'mumbai': 3,\n",
              "             'teen': 3,\n",
              "             'reflects': 3,\n",
              "             'upbringing': 1,\n",
              "             'slums': 1,\n",
              "             'accused': 1,\n",
              "             'cheating': 1,\n",
              "             'indian': 2,\n",
              "             'version': 2,\n",
              "             'wants': 1,\n",
              "             'millionaire': 2,\n",
              "             '?\"': 2})"
            ]
          },
          "metadata": {},
          "execution_count": 16
        }
      ]
    },
    {
      "cell_type": "code",
      "source": [
        "df"
      ],
      "metadata": {
        "colab": {
          "base_uri": "https://localhost:8080/",
          "height": 423
        },
        "id": "zjcPhfkUZau8",
        "outputId": "d9f76eb1-1249-4549-ebad-70314047cf2f"
      },
      "execution_count": null,
      "outputs": [
        {
          "output_type": "execute_result",
          "data": {
            "text/plain": [
              "                        Title                       Genre  \\\n",
              "0    The Shawshank Redemption             [crime,  drama]   \n",
              "1               The Godfather             [crime,  drama]   \n",
              "2      The Godfather: Part II             [crime,  drama]   \n",
              "3             The Dark Knight    [action,  crime,  drama]   \n",
              "4                12 Angry Men             [crime,  drama]   \n",
              "..                        ...                         ...   \n",
              "245          The Lost Weekend         [drama,  film-noir]   \n",
              "246             Short Term 12                     [drama]   \n",
              "247           His Girl Friday  [comedy,  drama,  romance]   \n",
              "248        The Straight Story         [biography,  drama]   \n",
              "249       Slumdog Millionaire                     [drama]   \n",
              "\n",
              "                      Director  \\\n",
              "0                frankdarabont   \n",
              "1           francisfordcoppola   \n",
              "2           francisfordcoppola   \n",
              "3             christophernolan   \n",
              "4                  sidneylumet   \n",
              "..                         ...   \n",
              "245                billywilder   \n",
              "246        destindanielcretton   \n",
              "247                howardhawks   \n",
              "248                 davidlynch   \n",
              "249  dannyboyle,loveleentandan   \n",
              "\n",
              "                                                Actors  \\\n",
              "0    [timrobbins, morganfreeman, bobgunton, william...   \n",
              "1    [marlonbrando, alpacino, jamescaan, richards.c...   \n",
              "2    [alpacino, robertduvall, dianekeaton, robertde...   \n",
              "3    [christianbale, heathledger, aaroneckhart, mic...   \n",
              "4    [martinbalsam, johnfiedler, leej.cobb, e.g.mar...   \n",
              "..                                                 ...   \n",
              "245  [raymilland, janewyman, phillipterry, howardda...   \n",
              "246  [brielarson, johngallagherjr., stephaniebeatri...   \n",
              "247  [carygrant, rosalindrussell, ralphbellamy, gen...   \n",
              "248  [sissyspacek, janegallowayheitz, josepha.carpe...   \n",
              "249   [devpatel, saurabhshukla, anilkapoor, rajzutshi]   \n",
              "\n",
              "                                             Key_words  \n",
              "0    [two, imprisoned, men, bond, number, years, fi...  \n",
              "1    [aging, patriarch, organized, crime, dynasty, ...  \n",
              "2    [early, life, career, vito, corleone, 1920s, n...  \n",
              "3    [menace, known, joker, emerges, mysterious, pa...  \n",
              "4    [jury, holdout, attempts, prevent, miscarriage...  \n",
              "..                                                 ...  \n",
              "245  [desperate, life, chronic, alcoholic, followed...  \n",
              "246  [20, something, supervising, staff, member, re...  \n",
              "247  [newspaper, editor, uses, every, trick, book, ...  \n",
              "248  [old, man, makes, long, journey, lawn, mover, ...  \n",
              "249  [mumbai, teen, reflects, upbringing, slums, ac...  \n",
              "\n",
              "[250 rows x 5 columns]"
            ],
            "text/html": [
              "\n",
              "  <div id=\"df-d6128792-4bc8-470e-9cbf-9981508a9766\">\n",
              "    <div class=\"colab-df-container\">\n",
              "      <div>\n",
              "<style scoped>\n",
              "    .dataframe tbody tr th:only-of-type {\n",
              "        vertical-align: middle;\n",
              "    }\n",
              "\n",
              "    .dataframe tbody tr th {\n",
              "        vertical-align: top;\n",
              "    }\n",
              "\n",
              "    .dataframe thead th {\n",
              "        text-align: right;\n",
              "    }\n",
              "</style>\n",
              "<table border=\"1\" class=\"dataframe\">\n",
              "  <thead>\n",
              "    <tr style=\"text-align: right;\">\n",
              "      <th></th>\n",
              "      <th>Title</th>\n",
              "      <th>Genre</th>\n",
              "      <th>Director</th>\n",
              "      <th>Actors</th>\n",
              "      <th>Key_words</th>\n",
              "    </tr>\n",
              "  </thead>\n",
              "  <tbody>\n",
              "    <tr>\n",
              "      <th>0</th>\n",
              "      <td>The Shawshank Redemption</td>\n",
              "      <td>[crime,  drama]</td>\n",
              "      <td>frankdarabont</td>\n",
              "      <td>[timrobbins, morganfreeman, bobgunton, william...</td>\n",
              "      <td>[two, imprisoned, men, bond, number, years, fi...</td>\n",
              "    </tr>\n",
              "    <tr>\n",
              "      <th>1</th>\n",
              "      <td>The Godfather</td>\n",
              "      <td>[crime,  drama]</td>\n",
              "      <td>francisfordcoppola</td>\n",
              "      <td>[marlonbrando, alpacino, jamescaan, richards.c...</td>\n",
              "      <td>[aging, patriarch, organized, crime, dynasty, ...</td>\n",
              "    </tr>\n",
              "    <tr>\n",
              "      <th>2</th>\n",
              "      <td>The Godfather: Part II</td>\n",
              "      <td>[crime,  drama]</td>\n",
              "      <td>francisfordcoppola</td>\n",
              "      <td>[alpacino, robertduvall, dianekeaton, robertde...</td>\n",
              "      <td>[early, life, career, vito, corleone, 1920s, n...</td>\n",
              "    </tr>\n",
              "    <tr>\n",
              "      <th>3</th>\n",
              "      <td>The Dark Knight</td>\n",
              "      <td>[action,  crime,  drama]</td>\n",
              "      <td>christophernolan</td>\n",
              "      <td>[christianbale, heathledger, aaroneckhart, mic...</td>\n",
              "      <td>[menace, known, joker, emerges, mysterious, pa...</td>\n",
              "    </tr>\n",
              "    <tr>\n",
              "      <th>4</th>\n",
              "      <td>12 Angry Men</td>\n",
              "      <td>[crime,  drama]</td>\n",
              "      <td>sidneylumet</td>\n",
              "      <td>[martinbalsam, johnfiedler, leej.cobb, e.g.mar...</td>\n",
              "      <td>[jury, holdout, attempts, prevent, miscarriage...</td>\n",
              "    </tr>\n",
              "    <tr>\n",
              "      <th>...</th>\n",
              "      <td>...</td>\n",
              "      <td>...</td>\n",
              "      <td>...</td>\n",
              "      <td>...</td>\n",
              "      <td>...</td>\n",
              "    </tr>\n",
              "    <tr>\n",
              "      <th>245</th>\n",
              "      <td>The Lost Weekend</td>\n",
              "      <td>[drama,  film-noir]</td>\n",
              "      <td>billywilder</td>\n",
              "      <td>[raymilland, janewyman, phillipterry, howardda...</td>\n",
              "      <td>[desperate, life, chronic, alcoholic, followed...</td>\n",
              "    </tr>\n",
              "    <tr>\n",
              "      <th>246</th>\n",
              "      <td>Short Term 12</td>\n",
              "      <td>[drama]</td>\n",
              "      <td>destindanielcretton</td>\n",
              "      <td>[brielarson, johngallagherjr., stephaniebeatri...</td>\n",
              "      <td>[20, something, supervising, staff, member, re...</td>\n",
              "    </tr>\n",
              "    <tr>\n",
              "      <th>247</th>\n",
              "      <td>His Girl Friday</td>\n",
              "      <td>[comedy,  drama,  romance]</td>\n",
              "      <td>howardhawks</td>\n",
              "      <td>[carygrant, rosalindrussell, ralphbellamy, gen...</td>\n",
              "      <td>[newspaper, editor, uses, every, trick, book, ...</td>\n",
              "    </tr>\n",
              "    <tr>\n",
              "      <th>248</th>\n",
              "      <td>The Straight Story</td>\n",
              "      <td>[biography,  drama]</td>\n",
              "      <td>davidlynch</td>\n",
              "      <td>[sissyspacek, janegallowayheitz, josepha.carpe...</td>\n",
              "      <td>[old, man, makes, long, journey, lawn, mover, ...</td>\n",
              "    </tr>\n",
              "    <tr>\n",
              "      <th>249</th>\n",
              "      <td>Slumdog Millionaire</td>\n",
              "      <td>[drama]</td>\n",
              "      <td>dannyboyle,loveleentandan</td>\n",
              "      <td>[devpatel, saurabhshukla, anilkapoor, rajzutshi]</td>\n",
              "      <td>[mumbai, teen, reflects, upbringing, slums, ac...</td>\n",
              "    </tr>\n",
              "  </tbody>\n",
              "</table>\n",
              "<p>250 rows × 5 columns</p>\n",
              "</div>\n",
              "      <button class=\"colab-df-convert\" onclick=\"convertToInteractive('df-d6128792-4bc8-470e-9cbf-9981508a9766')\"\n",
              "              title=\"Convert this dataframe to an interactive table.\"\n",
              "              style=\"display:none;\">\n",
              "        \n",
              "  <svg xmlns=\"http://www.w3.org/2000/svg\" height=\"24px\"viewBox=\"0 0 24 24\"\n",
              "       width=\"24px\">\n",
              "    <path d=\"M0 0h24v24H0V0z\" fill=\"none\"/>\n",
              "    <path d=\"M18.56 5.44l.94 2.06.94-2.06 2.06-.94-2.06-.94-.94-2.06-.94 2.06-2.06.94zm-11 1L8.5 8.5l.94-2.06 2.06-.94-2.06-.94L8.5 2.5l-.94 2.06-2.06.94zm10 10l.94 2.06.94-2.06 2.06-.94-2.06-.94-.94-2.06-.94 2.06-2.06.94z\"/><path d=\"M17.41 7.96l-1.37-1.37c-.4-.4-.92-.59-1.43-.59-.52 0-1.04.2-1.43.59L10.3 9.45l-7.72 7.72c-.78.78-.78 2.05 0 2.83L4 21.41c.39.39.9.59 1.41.59.51 0 1.02-.2 1.41-.59l7.78-7.78 2.81-2.81c.8-.78.8-2.07 0-2.86zM5.41 20L4 18.59l7.72-7.72 1.47 1.35L5.41 20z\"/>\n",
              "  </svg>\n",
              "      </button>\n",
              "      \n",
              "  <style>\n",
              "    .colab-df-container {\n",
              "      display:flex;\n",
              "      flex-wrap:wrap;\n",
              "      gap: 12px;\n",
              "    }\n",
              "\n",
              "    .colab-df-convert {\n",
              "      background-color: #E8F0FE;\n",
              "      border: none;\n",
              "      border-radius: 50%;\n",
              "      cursor: pointer;\n",
              "      display: none;\n",
              "      fill: #1967D2;\n",
              "      height: 32px;\n",
              "      padding: 0 0 0 0;\n",
              "      width: 32px;\n",
              "    }\n",
              "\n",
              "    .colab-df-convert:hover {\n",
              "      background-color: #E2EBFA;\n",
              "      box-shadow: 0px 1px 2px rgba(60, 64, 67, 0.3), 0px 1px 3px 1px rgba(60, 64, 67, 0.15);\n",
              "      fill: #174EA6;\n",
              "    }\n",
              "\n",
              "    [theme=dark] .colab-df-convert {\n",
              "      background-color: #3B4455;\n",
              "      fill: #D2E3FC;\n",
              "    }\n",
              "\n",
              "    [theme=dark] .colab-df-convert:hover {\n",
              "      background-color: #434B5C;\n",
              "      box-shadow: 0px 1px 3px 1px rgba(0, 0, 0, 0.15);\n",
              "      filter: drop-shadow(0px 1px 2px rgba(0, 0, 0, 0.3));\n",
              "      fill: #FFFFFF;\n",
              "    }\n",
              "  </style>\n",
              "\n",
              "      <script>\n",
              "        const buttonEl =\n",
              "          document.querySelector('#df-d6128792-4bc8-470e-9cbf-9981508a9766 button.colab-df-convert');\n",
              "        buttonEl.style.display =\n",
              "          google.colab.kernel.accessAllowed ? 'block' : 'none';\n",
              "\n",
              "        async function convertToInteractive(key) {\n",
              "          const element = document.querySelector('#df-d6128792-4bc8-470e-9cbf-9981508a9766');\n",
              "          const dataTable =\n",
              "            await google.colab.kernel.invokeFunction('convertToInteractive',\n",
              "                                                     [key], {});\n",
              "          if (!dataTable) return;\n",
              "\n",
              "          const docLinkHtml = 'Like what you see? Visit the ' +\n",
              "            '<a target=\"_blank\" href=https://colab.research.google.com/notebooks/data_table.ipynb>data table notebook</a>'\n",
              "            + ' to learn more about interactive tables.';\n",
              "          element.innerHTML = '';\n",
              "          dataTable['output_type'] = 'display_data';\n",
              "          await google.colab.output.renderOutput(dataTable, element);\n",
              "          const docLink = document.createElement('div');\n",
              "          docLink.innerHTML = docLinkHtml;\n",
              "          element.appendChild(docLink);\n",
              "        }\n",
              "      </script>\n",
              "    </div>\n",
              "  </div>\n",
              "  "
            ]
          },
          "metadata": {},
          "execution_count": 17
        }
      ]
    },
    {
      "cell_type": "code",
      "source": [
        "df.set_index(\"Title\",inplace=True)\n",
        "df"
      ],
      "metadata": {
        "colab": {
          "base_uri": "https://localhost:8080/",
          "height": 455
        },
        "id": "FMPgCd5eZa97",
        "outputId": "464427de-bbf5-47be-ddeb-e774f44fcd12"
      },
      "execution_count": null,
      "outputs": [
        {
          "output_type": "execute_result",
          "data": {
            "text/plain": [
              "                                               Genre  \\\n",
              "Title                                                  \n",
              "The Shawshank Redemption             [crime,  drama]   \n",
              "The Godfather                        [crime,  drama]   \n",
              "The Godfather: Part II               [crime,  drama]   \n",
              "The Dark Knight             [action,  crime,  drama]   \n",
              "12 Angry Men                         [crime,  drama]   \n",
              "...                                              ...   \n",
              "The Lost Weekend                 [drama,  film-noir]   \n",
              "Short Term 12                                [drama]   \n",
              "His Girl Friday           [comedy,  drama,  romance]   \n",
              "The Straight Story               [biography,  drama]   \n",
              "Slumdog Millionaire                          [drama]   \n",
              "\n",
              "                                           Director  \\\n",
              "Title                                                 \n",
              "The Shawshank Redemption              frankdarabont   \n",
              "The Godfather                    francisfordcoppola   \n",
              "The Godfather: Part II           francisfordcoppola   \n",
              "The Dark Knight                    christophernolan   \n",
              "12 Angry Men                            sidneylumet   \n",
              "...                                             ...   \n",
              "The Lost Weekend                        billywilder   \n",
              "Short Term 12                   destindanielcretton   \n",
              "His Girl Friday                         howardhawks   \n",
              "The Straight Story                       davidlynch   \n",
              "Slumdog Millionaire       dannyboyle,loveleentandan   \n",
              "\n",
              "                                                                     Actors  \\\n",
              "Title                                                                         \n",
              "The Shawshank Redemption  [timrobbins, morganfreeman, bobgunton, william...   \n",
              "The Godfather             [marlonbrando, alpacino, jamescaan, richards.c...   \n",
              "The Godfather: Part II    [alpacino, robertduvall, dianekeaton, robertde...   \n",
              "The Dark Knight           [christianbale, heathledger, aaroneckhart, mic...   \n",
              "12 Angry Men              [martinbalsam, johnfiedler, leej.cobb, e.g.mar...   \n",
              "...                                                                     ...   \n",
              "The Lost Weekend          [raymilland, janewyman, phillipterry, howardda...   \n",
              "Short Term 12             [brielarson, johngallagherjr., stephaniebeatri...   \n",
              "His Girl Friday           [carygrant, rosalindrussell, ralphbellamy, gen...   \n",
              "The Straight Story        [sissyspacek, janegallowayheitz, josepha.carpe...   \n",
              "Slumdog Millionaire        [devpatel, saurabhshukla, anilkapoor, rajzutshi]   \n",
              "\n",
              "                                                                  Key_words  \n",
              "Title                                                                        \n",
              "The Shawshank Redemption  [two, imprisoned, men, bond, number, years, fi...  \n",
              "The Godfather             [aging, patriarch, organized, crime, dynasty, ...  \n",
              "The Godfather: Part II    [early, life, career, vito, corleone, 1920s, n...  \n",
              "The Dark Knight           [menace, known, joker, emerges, mysterious, pa...  \n",
              "12 Angry Men              [jury, holdout, attempts, prevent, miscarriage...  \n",
              "...                                                                     ...  \n",
              "The Lost Weekend          [desperate, life, chronic, alcoholic, followed...  \n",
              "Short Term 12             [20, something, supervising, staff, member, re...  \n",
              "His Girl Friday           [newspaper, editor, uses, every, trick, book, ...  \n",
              "The Straight Story        [old, man, makes, long, journey, lawn, mover, ...  \n",
              "Slumdog Millionaire       [mumbai, teen, reflects, upbringing, slums, ac...  \n",
              "\n",
              "[250 rows x 4 columns]"
            ],
            "text/html": [
              "\n",
              "  <div id=\"df-c68a2d03-e243-4567-b032-256d1e97c079\">\n",
              "    <div class=\"colab-df-container\">\n",
              "      <div>\n",
              "<style scoped>\n",
              "    .dataframe tbody tr th:only-of-type {\n",
              "        vertical-align: middle;\n",
              "    }\n",
              "\n",
              "    .dataframe tbody tr th {\n",
              "        vertical-align: top;\n",
              "    }\n",
              "\n",
              "    .dataframe thead th {\n",
              "        text-align: right;\n",
              "    }\n",
              "</style>\n",
              "<table border=\"1\" class=\"dataframe\">\n",
              "  <thead>\n",
              "    <tr style=\"text-align: right;\">\n",
              "      <th></th>\n",
              "      <th>Genre</th>\n",
              "      <th>Director</th>\n",
              "      <th>Actors</th>\n",
              "      <th>Key_words</th>\n",
              "    </tr>\n",
              "    <tr>\n",
              "      <th>Title</th>\n",
              "      <th></th>\n",
              "      <th></th>\n",
              "      <th></th>\n",
              "      <th></th>\n",
              "    </tr>\n",
              "  </thead>\n",
              "  <tbody>\n",
              "    <tr>\n",
              "      <th>The Shawshank Redemption</th>\n",
              "      <td>[crime,  drama]</td>\n",
              "      <td>frankdarabont</td>\n",
              "      <td>[timrobbins, morganfreeman, bobgunton, william...</td>\n",
              "      <td>[two, imprisoned, men, bond, number, years, fi...</td>\n",
              "    </tr>\n",
              "    <tr>\n",
              "      <th>The Godfather</th>\n",
              "      <td>[crime,  drama]</td>\n",
              "      <td>francisfordcoppola</td>\n",
              "      <td>[marlonbrando, alpacino, jamescaan, richards.c...</td>\n",
              "      <td>[aging, patriarch, organized, crime, dynasty, ...</td>\n",
              "    </tr>\n",
              "    <tr>\n",
              "      <th>The Godfather: Part II</th>\n",
              "      <td>[crime,  drama]</td>\n",
              "      <td>francisfordcoppola</td>\n",
              "      <td>[alpacino, robertduvall, dianekeaton, robertde...</td>\n",
              "      <td>[early, life, career, vito, corleone, 1920s, n...</td>\n",
              "    </tr>\n",
              "    <tr>\n",
              "      <th>The Dark Knight</th>\n",
              "      <td>[action,  crime,  drama]</td>\n",
              "      <td>christophernolan</td>\n",
              "      <td>[christianbale, heathledger, aaroneckhart, mic...</td>\n",
              "      <td>[menace, known, joker, emerges, mysterious, pa...</td>\n",
              "    </tr>\n",
              "    <tr>\n",
              "      <th>12 Angry Men</th>\n",
              "      <td>[crime,  drama]</td>\n",
              "      <td>sidneylumet</td>\n",
              "      <td>[martinbalsam, johnfiedler, leej.cobb, e.g.mar...</td>\n",
              "      <td>[jury, holdout, attempts, prevent, miscarriage...</td>\n",
              "    </tr>\n",
              "    <tr>\n",
              "      <th>...</th>\n",
              "      <td>...</td>\n",
              "      <td>...</td>\n",
              "      <td>...</td>\n",
              "      <td>...</td>\n",
              "    </tr>\n",
              "    <tr>\n",
              "      <th>The Lost Weekend</th>\n",
              "      <td>[drama,  film-noir]</td>\n",
              "      <td>billywilder</td>\n",
              "      <td>[raymilland, janewyman, phillipterry, howardda...</td>\n",
              "      <td>[desperate, life, chronic, alcoholic, followed...</td>\n",
              "    </tr>\n",
              "    <tr>\n",
              "      <th>Short Term 12</th>\n",
              "      <td>[drama]</td>\n",
              "      <td>destindanielcretton</td>\n",
              "      <td>[brielarson, johngallagherjr., stephaniebeatri...</td>\n",
              "      <td>[20, something, supervising, staff, member, re...</td>\n",
              "    </tr>\n",
              "    <tr>\n",
              "      <th>His Girl Friday</th>\n",
              "      <td>[comedy,  drama,  romance]</td>\n",
              "      <td>howardhawks</td>\n",
              "      <td>[carygrant, rosalindrussell, ralphbellamy, gen...</td>\n",
              "      <td>[newspaper, editor, uses, every, trick, book, ...</td>\n",
              "    </tr>\n",
              "    <tr>\n",
              "      <th>The Straight Story</th>\n",
              "      <td>[biography,  drama]</td>\n",
              "      <td>davidlynch</td>\n",
              "      <td>[sissyspacek, janegallowayheitz, josepha.carpe...</td>\n",
              "      <td>[old, man, makes, long, journey, lawn, mover, ...</td>\n",
              "    </tr>\n",
              "    <tr>\n",
              "      <th>Slumdog Millionaire</th>\n",
              "      <td>[drama]</td>\n",
              "      <td>dannyboyle,loveleentandan</td>\n",
              "      <td>[devpatel, saurabhshukla, anilkapoor, rajzutshi]</td>\n",
              "      <td>[mumbai, teen, reflects, upbringing, slums, ac...</td>\n",
              "    </tr>\n",
              "  </tbody>\n",
              "</table>\n",
              "<p>250 rows × 4 columns</p>\n",
              "</div>\n",
              "      <button class=\"colab-df-convert\" onclick=\"convertToInteractive('df-c68a2d03-e243-4567-b032-256d1e97c079')\"\n",
              "              title=\"Convert this dataframe to an interactive table.\"\n",
              "              style=\"display:none;\">\n",
              "        \n",
              "  <svg xmlns=\"http://www.w3.org/2000/svg\" height=\"24px\"viewBox=\"0 0 24 24\"\n",
              "       width=\"24px\">\n",
              "    <path d=\"M0 0h24v24H0V0z\" fill=\"none\"/>\n",
              "    <path d=\"M18.56 5.44l.94 2.06.94-2.06 2.06-.94-2.06-.94-.94-2.06-.94 2.06-2.06.94zm-11 1L8.5 8.5l.94-2.06 2.06-.94-2.06-.94L8.5 2.5l-.94 2.06-2.06.94zm10 10l.94 2.06.94-2.06 2.06-.94-2.06-.94-.94-2.06-.94 2.06-2.06.94z\"/><path d=\"M17.41 7.96l-1.37-1.37c-.4-.4-.92-.59-1.43-.59-.52 0-1.04.2-1.43.59L10.3 9.45l-7.72 7.72c-.78.78-.78 2.05 0 2.83L4 21.41c.39.39.9.59 1.41.59.51 0 1.02-.2 1.41-.59l7.78-7.78 2.81-2.81c.8-.78.8-2.07 0-2.86zM5.41 20L4 18.59l7.72-7.72 1.47 1.35L5.41 20z\"/>\n",
              "  </svg>\n",
              "      </button>\n",
              "      \n",
              "  <style>\n",
              "    .colab-df-container {\n",
              "      display:flex;\n",
              "      flex-wrap:wrap;\n",
              "      gap: 12px;\n",
              "    }\n",
              "\n",
              "    .colab-df-convert {\n",
              "      background-color: #E8F0FE;\n",
              "      border: none;\n",
              "      border-radius: 50%;\n",
              "      cursor: pointer;\n",
              "      display: none;\n",
              "      fill: #1967D2;\n",
              "      height: 32px;\n",
              "      padding: 0 0 0 0;\n",
              "      width: 32px;\n",
              "    }\n",
              "\n",
              "    .colab-df-convert:hover {\n",
              "      background-color: #E2EBFA;\n",
              "      box-shadow: 0px 1px 2px rgba(60, 64, 67, 0.3), 0px 1px 3px 1px rgba(60, 64, 67, 0.15);\n",
              "      fill: #174EA6;\n",
              "    }\n",
              "\n",
              "    [theme=dark] .colab-df-convert {\n",
              "      background-color: #3B4455;\n",
              "      fill: #D2E3FC;\n",
              "    }\n",
              "\n",
              "    [theme=dark] .colab-df-convert:hover {\n",
              "      background-color: #434B5C;\n",
              "      box-shadow: 0px 1px 3px 1px rgba(0, 0, 0, 0.15);\n",
              "      filter: drop-shadow(0px 1px 2px rgba(0, 0, 0, 0.3));\n",
              "      fill: #FFFFFF;\n",
              "    }\n",
              "  </style>\n",
              "\n",
              "      <script>\n",
              "        const buttonEl =\n",
              "          document.querySelector('#df-c68a2d03-e243-4567-b032-256d1e97c079 button.colab-df-convert');\n",
              "        buttonEl.style.display =\n",
              "          google.colab.kernel.accessAllowed ? 'block' : 'none';\n",
              "\n",
              "        async function convertToInteractive(key) {\n",
              "          const element = document.querySelector('#df-c68a2d03-e243-4567-b032-256d1e97c079');\n",
              "          const dataTable =\n",
              "            await google.colab.kernel.invokeFunction('convertToInteractive',\n",
              "                                                     [key], {});\n",
              "          if (!dataTable) return;\n",
              "\n",
              "          const docLinkHtml = 'Like what you see? Visit the ' +\n",
              "            '<a target=\"_blank\" href=https://colab.research.google.com/notebooks/data_table.ipynb>data table notebook</a>'\n",
              "            + ' to learn more about interactive tables.';\n",
              "          element.innerHTML = '';\n",
              "          dataTable['output_type'] = 'display_data';\n",
              "          await google.colab.output.renderOutput(dataTable, element);\n",
              "          const docLink = document.createElement('div');\n",
              "          docLink.innerHTML = docLinkHtml;\n",
              "          element.appendChild(docLink);\n",
              "        }\n",
              "      </script>\n",
              "    </div>\n",
              "  </div>\n",
              "  "
            ]
          },
          "metadata": {},
          "execution_count": 18
        }
      ]
    },
    {
      "cell_type": "markdown",
      "source": [
        "## Bag of Words"
      ],
      "metadata": {
        "id": "0_-FN8LYcCt3"
      }
    },
    {
      "cell_type": "code",
      "source": [
        "df['bag_of_words']=''\n",
        "columns=df.columns\n",
        "for index,row in df.iterrows():\n",
        "  words=''\n",
        "  for col in columns:\n",
        "    if col!='Director':\n",
        "      words=words+\" \".join(row[col])+\" \"\n",
        "    else:\n",
        "      words=words+row[col]+' '\n",
        "    row['bag_of_words']=words\n",
        "\n",
        "df.drop(columns=[col for col in df.columns if col!='bag_of_words'], inplace=True)"
      ],
      "metadata": {
        "id": "xFQk4Qfybvni"
      },
      "execution_count": null,
      "outputs": []
    },
    {
      "cell_type": "code",
      "source": [
        "df"
      ],
      "metadata": {
        "colab": {
          "base_uri": "https://localhost:8080/",
          "height": 455
        },
        "id": "JJGCxbGdeH_l",
        "outputId": "04243b9e-15ad-440b-ada8-88199e591ff7"
      },
      "execution_count": null,
      "outputs": [
        {
          "output_type": "execute_result",
          "data": {
            "text/plain": [
              "                                                               bag_of_words\n",
              "Title                                                                      \n",
              "The Shawshank Redemption  crime  drama frankdarabont timrobbins morganfr...\n",
              "The Godfather             crime  drama francisfordcoppola marlonbrando a...\n",
              "The Godfather: Part II    crime  drama francisfordcoppola alpacino rober...\n",
              "The Dark Knight           action  crime  drama christophernolan christia...\n",
              "12 Angry Men              crime  drama sidneylumet martinbalsam johnfied...\n",
              "...                                                                     ...\n",
              "The Lost Weekend          drama  film-noir billywilder raymilland janewy...\n",
              "Short Term 12             drama destindanielcretton brielarson johngalla...\n",
              "His Girl Friday           comedy  drama  romance howardhawks carygrant r...\n",
              "The Straight Story        biography  drama davidlynch sissyspacek janega...\n",
              "Slumdog Millionaire       drama dannyboyle,loveleentandan devpatel saura...\n",
              "\n",
              "[250 rows x 1 columns]"
            ],
            "text/html": [
              "\n",
              "  <div id=\"df-7d63b69e-be6e-4eb8-b137-a3c02b1536ad\">\n",
              "    <div class=\"colab-df-container\">\n",
              "      <div>\n",
              "<style scoped>\n",
              "    .dataframe tbody tr th:only-of-type {\n",
              "        vertical-align: middle;\n",
              "    }\n",
              "\n",
              "    .dataframe tbody tr th {\n",
              "        vertical-align: top;\n",
              "    }\n",
              "\n",
              "    .dataframe thead th {\n",
              "        text-align: right;\n",
              "    }\n",
              "</style>\n",
              "<table border=\"1\" class=\"dataframe\">\n",
              "  <thead>\n",
              "    <tr style=\"text-align: right;\">\n",
              "      <th></th>\n",
              "      <th>bag_of_words</th>\n",
              "    </tr>\n",
              "    <tr>\n",
              "      <th>Title</th>\n",
              "      <th></th>\n",
              "    </tr>\n",
              "  </thead>\n",
              "  <tbody>\n",
              "    <tr>\n",
              "      <th>The Shawshank Redemption</th>\n",
              "      <td>crime  drama frankdarabont timrobbins morganfr...</td>\n",
              "    </tr>\n",
              "    <tr>\n",
              "      <th>The Godfather</th>\n",
              "      <td>crime  drama francisfordcoppola marlonbrando a...</td>\n",
              "    </tr>\n",
              "    <tr>\n",
              "      <th>The Godfather: Part II</th>\n",
              "      <td>crime  drama francisfordcoppola alpacino rober...</td>\n",
              "    </tr>\n",
              "    <tr>\n",
              "      <th>The Dark Knight</th>\n",
              "      <td>action  crime  drama christophernolan christia...</td>\n",
              "    </tr>\n",
              "    <tr>\n",
              "      <th>12 Angry Men</th>\n",
              "      <td>crime  drama sidneylumet martinbalsam johnfied...</td>\n",
              "    </tr>\n",
              "    <tr>\n",
              "      <th>...</th>\n",
              "      <td>...</td>\n",
              "    </tr>\n",
              "    <tr>\n",
              "      <th>The Lost Weekend</th>\n",
              "      <td>drama  film-noir billywilder raymilland janewy...</td>\n",
              "    </tr>\n",
              "    <tr>\n",
              "      <th>Short Term 12</th>\n",
              "      <td>drama destindanielcretton brielarson johngalla...</td>\n",
              "    </tr>\n",
              "    <tr>\n",
              "      <th>His Girl Friday</th>\n",
              "      <td>comedy  drama  romance howardhawks carygrant r...</td>\n",
              "    </tr>\n",
              "    <tr>\n",
              "      <th>The Straight Story</th>\n",
              "      <td>biography  drama davidlynch sissyspacek janega...</td>\n",
              "    </tr>\n",
              "    <tr>\n",
              "      <th>Slumdog Millionaire</th>\n",
              "      <td>drama dannyboyle,loveleentandan devpatel saura...</td>\n",
              "    </tr>\n",
              "  </tbody>\n",
              "</table>\n",
              "<p>250 rows × 1 columns</p>\n",
              "</div>\n",
              "      <button class=\"colab-df-convert\" onclick=\"convertToInteractive('df-7d63b69e-be6e-4eb8-b137-a3c02b1536ad')\"\n",
              "              title=\"Convert this dataframe to an interactive table.\"\n",
              "              style=\"display:none;\">\n",
              "        \n",
              "  <svg xmlns=\"http://www.w3.org/2000/svg\" height=\"24px\"viewBox=\"0 0 24 24\"\n",
              "       width=\"24px\">\n",
              "    <path d=\"M0 0h24v24H0V0z\" fill=\"none\"/>\n",
              "    <path d=\"M18.56 5.44l.94 2.06.94-2.06 2.06-.94-2.06-.94-.94-2.06-.94 2.06-2.06.94zm-11 1L8.5 8.5l.94-2.06 2.06-.94-2.06-.94L8.5 2.5l-.94 2.06-2.06.94zm10 10l.94 2.06.94-2.06 2.06-.94-2.06-.94-.94-2.06-.94 2.06-2.06.94z\"/><path d=\"M17.41 7.96l-1.37-1.37c-.4-.4-.92-.59-1.43-.59-.52 0-1.04.2-1.43.59L10.3 9.45l-7.72 7.72c-.78.78-.78 2.05 0 2.83L4 21.41c.39.39.9.59 1.41.59.51 0 1.02-.2 1.41-.59l7.78-7.78 2.81-2.81c.8-.78.8-2.07 0-2.86zM5.41 20L4 18.59l7.72-7.72 1.47 1.35L5.41 20z\"/>\n",
              "  </svg>\n",
              "      </button>\n",
              "      \n",
              "  <style>\n",
              "    .colab-df-container {\n",
              "      display:flex;\n",
              "      flex-wrap:wrap;\n",
              "      gap: 12px;\n",
              "    }\n",
              "\n",
              "    .colab-df-convert {\n",
              "      background-color: #E8F0FE;\n",
              "      border: none;\n",
              "      border-radius: 50%;\n",
              "      cursor: pointer;\n",
              "      display: none;\n",
              "      fill: #1967D2;\n",
              "      height: 32px;\n",
              "      padding: 0 0 0 0;\n",
              "      width: 32px;\n",
              "    }\n",
              "\n",
              "    .colab-df-convert:hover {\n",
              "      background-color: #E2EBFA;\n",
              "      box-shadow: 0px 1px 2px rgba(60, 64, 67, 0.3), 0px 1px 3px 1px rgba(60, 64, 67, 0.15);\n",
              "      fill: #174EA6;\n",
              "    }\n",
              "\n",
              "    [theme=dark] .colab-df-convert {\n",
              "      background-color: #3B4455;\n",
              "      fill: #D2E3FC;\n",
              "    }\n",
              "\n",
              "    [theme=dark] .colab-df-convert:hover {\n",
              "      background-color: #434B5C;\n",
              "      box-shadow: 0px 1px 3px 1px rgba(0, 0, 0, 0.15);\n",
              "      filter: drop-shadow(0px 1px 2px rgba(0, 0, 0, 0.3));\n",
              "      fill: #FFFFFF;\n",
              "    }\n",
              "  </style>\n",
              "\n",
              "      <script>\n",
              "        const buttonEl =\n",
              "          document.querySelector('#df-7d63b69e-be6e-4eb8-b137-a3c02b1536ad button.colab-df-convert');\n",
              "        buttonEl.style.display =\n",
              "          google.colab.kernel.accessAllowed ? 'block' : 'none';\n",
              "\n",
              "        async function convertToInteractive(key) {\n",
              "          const element = document.querySelector('#df-7d63b69e-be6e-4eb8-b137-a3c02b1536ad');\n",
              "          const dataTable =\n",
              "            await google.colab.kernel.invokeFunction('convertToInteractive',\n",
              "                                                     [key], {});\n",
              "          if (!dataTable) return;\n",
              "\n",
              "          const docLinkHtml = 'Like what you see? Visit the ' +\n",
              "            '<a target=\"_blank\" href=https://colab.research.google.com/notebooks/data_table.ipynb>data table notebook</a>'\n",
              "            + ' to learn more about interactive tables.';\n",
              "          element.innerHTML = '';\n",
              "          dataTable['output_type'] = 'display_data';\n",
              "          await google.colab.output.renderOutput(dataTable, element);\n",
              "          const docLink = document.createElement('div');\n",
              "          docLink.innerHTML = docLinkHtml;\n",
              "          element.appendChild(docLink);\n",
              "        }\n",
              "      </script>\n",
              "    </div>\n",
              "  </div>\n",
              "  "
            ]
          },
          "metadata": {},
          "execution_count": 20
        }
      ]
    },
    {
      "cell_type": "code",
      "source": [
        "## Generating Count Vectorizer\n",
        "count=CountVectorizer()\n",
        "count_matrix=count.fit_transform(df['bag_of_words'])"
      ],
      "metadata": {
        "id": "Q6fyfqwQedLE"
      },
      "execution_count": null,
      "outputs": []
    },
    {
      "cell_type": "code",
      "source": [
        "count_matrix"
      ],
      "metadata": {
        "colab": {
          "base_uri": "https://localhost:8080/"
        },
        "id": "F2fWl00Yi8yx",
        "outputId": "d39cae3b-170b-4a50-9141-34839c0d1738"
      },
      "execution_count": null,
      "outputs": [
        {
          "output_type": "execute_result",
          "data": {
            "text/plain": [
              "<250x3176 sparse matrix of type '<class 'numpy.int64'>'\n",
              "\twith 5601 stored elements in Compressed Sparse Row format>"
            ]
          },
          "metadata": {},
          "execution_count": 22
        }
      ]
    },
    {
      "cell_type": "code",
      "source": [
        "c=count_matrix.todense()"
      ],
      "metadata": {
        "id": "8xGO0vKGi-T5"
      },
      "execution_count": null,
      "outputs": []
    },
    {
      "cell_type": "code",
      "source": [
        "c"
      ],
      "metadata": {
        "colab": {
          "base_uri": "https://localhost:8080/"
        },
        "id": "RhqiBcXJjF2-",
        "outputId": "04e24e23-e2f0-4777-8b57-cb788d3f9d0b"
      },
      "execution_count": null,
      "outputs": [
        {
          "output_type": "execute_result",
          "data": {
            "text/plain": [
              "matrix([[0, 0, 0, ..., 0, 0, 0],\n",
              "        [0, 0, 0, ..., 0, 0, 0],\n",
              "        [0, 0, 0, ..., 0, 0, 0],\n",
              "        ...,\n",
              "        [0, 0, 0, ..., 0, 0, 0],\n",
              "        [0, 0, 0, ..., 0, 0, 0],\n",
              "        [0, 0, 0, ..., 0, 0, 0]])"
            ]
          },
          "metadata": {},
          "execution_count": 24
        }
      ]
    },
    {
      "cell_type": "code",
      "source": [
        "print(count_matrix[0,:])"
      ],
      "metadata": {
        "colab": {
          "base_uri": "https://localhost:8080/"
        },
        "id": "vGpn5QFcjG0x",
        "outputId": "848a35d3-ed1f-4285-d32f-4b1c91960f05"
      },
      "execution_count": null,
      "outputs": [
        {
          "output_type": "stream",
          "name": "stdout",
          "text": [
            "  (0, 619)\t1\n",
            "  (0, 816)\t1\n",
            "  (0, 1073)\t1\n",
            "  (0, 2877)\t1\n",
            "  (0, 1962)\t1\n",
            "  (0, 323)\t1\n",
            "  (0, 3116)\t1\n",
            "  (0, 2966)\t1\n",
            "  (0, 1346)\t1\n",
            "  (0, 1879)\t1\n",
            "  (0, 328)\t1\n",
            "  (0, 2055)\t1\n",
            "  (0, 3164)\t1\n",
            "  (0, 1028)\t1\n",
            "  (0, 2672)\t1\n",
            "  (0, 947)\t1\n",
            "  (0, 2344)\t1\n",
            "  (0, 59)\t1\n",
            "  (0, 553)\t1\n",
            "  (0, 700)\t1\n"
          ]
        }
      ]
    },
    {
      "cell_type": "code",
      "source": [
        "## Generating the cosine similarity matrix\n",
        "cosine_sim=cosine_similarity(count_matrix,count_matrix)\n",
        "cosine_sim"
      ],
      "metadata": {
        "colab": {
          "base_uri": "https://localhost:8080/"
        },
        "id": "fvgqynMgjRPP",
        "outputId": "ac74845e-c9da-4af3-bc5d-438f94614912"
      },
      "execution_count": null,
      "outputs": [
        {
          "output_type": "execute_result",
          "data": {
            "text/plain": [
              "array([[1.        , 0.14638501, 0.1315587 , ..., 0.05      , 0.05      ,\n",
              "        0.05270463],\n",
              "       [0.14638501, 1.        , 0.34236839, ..., 0.048795  , 0.048795  ,\n",
              "        0.05143445],\n",
              "       [0.1315587 , 0.34236839, 1.        , ..., 0.0438529 , 0.0438529 ,\n",
              "        0.04622502],\n",
              "       ...,\n",
              "       [0.05      , 0.048795  , 0.0438529 , ..., 1.        , 0.05      ,\n",
              "        0.05270463],\n",
              "       [0.05      , 0.048795  , 0.0438529 , ..., 0.05      , 1.        ,\n",
              "        0.05270463],\n",
              "       [0.05270463, 0.05143445, 0.04622502, ..., 0.05270463, 0.05270463,\n",
              "        1.        ]])"
            ]
          },
          "metadata": {},
          "execution_count": 27
        }
      ]
    },
    {
      "cell_type": "code",
      "source": [
        "# creating a Series for the movie titles so they are associated to an ordered numerical\n",
        "# list I will use later to match the indexes\n",
        "\n",
        "indices=pd.Series(df.index)\n",
        "indices[:20]"
      ],
      "metadata": {
        "colab": {
          "base_uri": "https://localhost:8080/"
        },
        "id": "_DALxyjAkmWx",
        "outputId": "ebabd043-b45e-4075-9897-b863bc227c3e"
      },
      "execution_count": null,
      "outputs": [
        {
          "output_type": "execute_result",
          "data": {
            "text/plain": [
              "0                              The Shawshank Redemption\n",
              "1                                         The Godfather\n",
              "2                                The Godfather: Part II\n",
              "3                                       The Dark Knight\n",
              "4                                          12 Angry Men\n",
              "5                                      Schindler's List\n",
              "6         The Lord of the Rings: The Return of the King\n",
              "7                                          Pulp Fiction\n",
              "8                                            Fight Club\n",
              "9     The Lord of the Rings: The Fellowship of the Ring\n",
              "10                                         Forrest Gump\n",
              "11       Star Wars: Episode V - The Empire Strikes Back\n",
              "12                                            Inception\n",
              "13                The Lord of the Rings: The Two Towers\n",
              "14                      One Flew Over the Cuckoo's Nest\n",
              "15                                           Goodfellas\n",
              "16                                           The Matrix\n",
              "17                   Star Wars: Episode IV - A New Hope\n",
              "18                                                Se7en\n",
              "19                                It's a Wonderful Life\n",
              "Name: Title, dtype: object"
            ]
          },
          "metadata": {},
          "execution_count": 28
        }
      ]
    },
    {
      "cell_type": "code",
      "source": [
        "## Creating a Function that takes movie title as the input and returns top 10 recommended movies\n",
        "def recommendations(title, coine_sim=cosine_sim):\n",
        "  recommended_movies=[]\n",
        "  ## Getting the index of the movie that matches the title\n",
        "  idx=indices[indices==title].index[0]\n",
        "  ## Creating a Series with the similarity scores in descending order\n",
        "  score_series=pd.Series(cosine_sim[idx]).sort_values(ascending=False)\n",
        "  ## Getting the indexes of 10 most similar movies\n",
        "  top_10_indexes=list(score_series.iloc[1:11].index)\n",
        "  print(top_10_indexes)\n",
        "  ## Populating the list with the titles of the best 10 matching movies\n",
        "  for i in top_10_indexes:\n",
        "    recommended_movies.append(list(df.index)[i])\n",
        "  return recommended_movies"
      ],
      "metadata": {
        "id": "SOuhTO7PlR1b"
      },
      "execution_count": null,
      "outputs": []
    },
    {
      "cell_type": "code",
      "source": [
        "recommendations('The Godfather')"
      ],
      "metadata": {
        "colab": {
          "base_uri": "https://localhost:8080/"
        },
        "id": "m5RbvD1jl73W",
        "outputId": "87a9af76-b822-48ee-c318-d890e495f1ad"
      },
      "execution_count": null,
      "outputs": [
        {
          "output_type": "stream",
          "name": "stdout",
          "text": [
            "[2, 83, 128, 226, 100, 15, 76, 123, 110, 66]\n"
          ]
        },
        {
          "output_type": "execute_result",
          "data": {
            "text/plain": [
              "['The Godfather: Part II',\n",
              " 'Scarface',\n",
              " 'Fargo',\n",
              " 'Rope',\n",
              " 'On the Waterfront',\n",
              " 'Goodfellas',\n",
              " 'Baby Driver',\n",
              " 'Cool Hand Luke',\n",
              " 'Casino',\n",
              " 'A Clockwork Orange']"
            ]
          },
          "metadata": {},
          "execution_count": 32
        }
      ]
    },
    {
      "cell_type": "code",
      "source": [
        "recommendations('Fargo')"
      ],
      "metadata": {
        "colab": {
          "base_uri": "https://localhost:8080/"
        },
        "id": "IHjV4nbUn9Im",
        "outputId": "cd06167f-33aa-4cfc-b2f5-41195ef630da"
      },
      "execution_count": null,
      "outputs": [
        {
          "output_type": "stream",
          "name": "stdout",
          "text": [
            "[132, 34, 226, 125, 61, 1, 2, 100, 15, 214]\n"
          ]
        },
        {
          "output_type": "execute_result",
          "data": {
            "text/plain": [
              "['No Country for Old Men',\n",
              " 'The Departed',\n",
              " 'Rope',\n",
              " 'The Big Lebowski',\n",
              " 'Reservoir Dogs',\n",
              " 'The Godfather',\n",
              " 'The Godfather: Part II',\n",
              " 'On the Waterfront',\n",
              " 'Goodfellas',\n",
              " 'Arsenic and Old Lace']"
            ]
          },
          "metadata": {},
          "execution_count": 33
        }
      ]
    },
    {
      "cell_type": "code",
      "source": [],
      "metadata": {
        "id": "Oia5oCY2ocp0"
      },
      "execution_count": null,
      "outputs": []
    }
  ]
}